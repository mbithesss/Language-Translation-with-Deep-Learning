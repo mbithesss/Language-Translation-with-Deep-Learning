{
  "cells": [
    {
      "cell_type": "markdown",
      "metadata": {
        "id": "a0JSFZxhEhcx"
      },
      "source": [
        "### Import Libraries"
      ]
    },
    {
      "cell_type": "code",
      "execution_count": 1,
      "metadata": {
        "id": "tU9_VoZoEnXx"
      },
      "outputs": [],
      "source": [
        "import numpy as np\n",
        "import pandas as pd\n",
        "import matplotlib.pyplot as plt\n",
        "import seaborn as sns\n",
        "%matplotlib inline\n",
        "import os\n",
        "import string\n",
        "from string import digits\n",
        "import re\n",
        "from sklearn.utils import shuffle\n",
        "from sklearn.model_selection import train_test_split\n",
        "from keras.layers import Input , LSTM, Embedding, Dense\n",
        "from keras.models import Model\n",
        "from keras.callbacks import ModelCheckpoint"
      ]
    },
    {
      "cell_type": "markdown",
      "metadata": {
        "id": "_vryQMKgE1tr"
      },
      "source": [
        "### Load the dataset"
      ]
    },
    {
      "cell_type": "code",
      "execution_count": 2,
      "metadata": {
        "id": "ySbbd4X0E8Jw",
        "colab": {
          "base_uri": "https://localhost:8080/",
          "height": 206
        },
        "outputId": "dfd4710e-b5e4-41cf-c9c4-80c6ebff976f"
      },
      "outputs": [
        {
          "output_type": "execute_result",
          "data": {
            "text/plain": [
              "      source                                   english_sentence  \\\n",
              "0        ted  politicians do not have permission to do what ...   \n",
              "1        ted         I'd like to tell you about one such child,   \n",
              "2  indic2012  This percentage is even greater than the perce...   \n",
              "3        ted  what we really mean is that they're bad at not...   \n",
              "4  indic2012  .The ending portion of these Vedas is called U...   \n",
              "\n",
              "                                      hindi_sentence  \n",
              "0  राजनीतिज्ञों के पास जो कार्य करना चाहिए, वह कर...  \n",
              "1  मई आपको ऐसे ही एक बच्चे के बारे में बताना चाहू...  \n",
              "2   यह प्रतिशत भारत में हिन्दुओं प्रतिशत से अधिक है।  \n",
              "3     हम ये नहीं कहना चाहते कि वो ध्यान नहीं दे पाते  \n",
              "4        इन्हीं वेदों का अंतिम भाग उपनिषद कहलाता है।  "
            ],
            "text/html": [
              "\n",
              "  <div id=\"df-0bb4a688-3d21-426f-95cd-e6d64c53f0d3\" class=\"colab-df-container\">\n",
              "    <div>\n",
              "<style scoped>\n",
              "    .dataframe tbody tr th:only-of-type {\n",
              "        vertical-align: middle;\n",
              "    }\n",
              "\n",
              "    .dataframe tbody tr th {\n",
              "        vertical-align: top;\n",
              "    }\n",
              "\n",
              "    .dataframe thead th {\n",
              "        text-align: right;\n",
              "    }\n",
              "</style>\n",
              "<table border=\"1\" class=\"dataframe\">\n",
              "  <thead>\n",
              "    <tr style=\"text-align: right;\">\n",
              "      <th></th>\n",
              "      <th>source</th>\n",
              "      <th>english_sentence</th>\n",
              "      <th>hindi_sentence</th>\n",
              "    </tr>\n",
              "  </thead>\n",
              "  <tbody>\n",
              "    <tr>\n",
              "      <th>0</th>\n",
              "      <td>ted</td>\n",
              "      <td>politicians do not have permission to do what ...</td>\n",
              "      <td>राजनीतिज्ञों के पास जो कार्य करना चाहिए, वह कर...</td>\n",
              "    </tr>\n",
              "    <tr>\n",
              "      <th>1</th>\n",
              "      <td>ted</td>\n",
              "      <td>I'd like to tell you about one such child,</td>\n",
              "      <td>मई आपको ऐसे ही एक बच्चे के बारे में बताना चाहू...</td>\n",
              "    </tr>\n",
              "    <tr>\n",
              "      <th>2</th>\n",
              "      <td>indic2012</td>\n",
              "      <td>This percentage is even greater than the perce...</td>\n",
              "      <td>यह प्रतिशत भारत में हिन्दुओं प्रतिशत से अधिक है।</td>\n",
              "    </tr>\n",
              "    <tr>\n",
              "      <th>3</th>\n",
              "      <td>ted</td>\n",
              "      <td>what we really mean is that they're bad at not...</td>\n",
              "      <td>हम ये नहीं कहना चाहते कि वो ध्यान नहीं दे पाते</td>\n",
              "    </tr>\n",
              "    <tr>\n",
              "      <th>4</th>\n",
              "      <td>indic2012</td>\n",
              "      <td>.The ending portion of these Vedas is called U...</td>\n",
              "      <td>इन्हीं वेदों का अंतिम भाग उपनिषद कहलाता है।</td>\n",
              "    </tr>\n",
              "  </tbody>\n",
              "</table>\n",
              "</div>\n",
              "    <div class=\"colab-df-buttons\">\n",
              "\n",
              "  <div class=\"colab-df-container\">\n",
              "    <button class=\"colab-df-convert\" onclick=\"convertToInteractive('df-0bb4a688-3d21-426f-95cd-e6d64c53f0d3')\"\n",
              "            title=\"Convert this dataframe to an interactive table.\"\n",
              "            style=\"display:none;\">\n",
              "\n",
              "  <svg xmlns=\"http://www.w3.org/2000/svg\" height=\"24px\" viewBox=\"0 -960 960 960\">\n",
              "    <path d=\"M120-120v-720h720v720H120Zm60-500h600v-160H180v160Zm220 220h160v-160H400v160Zm0 220h160v-160H400v160ZM180-400h160v-160H180v160Zm440 0h160v-160H620v160ZM180-180h160v-160H180v160Zm440 0h160v-160H620v160Z\"/>\n",
              "  </svg>\n",
              "    </button>\n",
              "\n",
              "  <style>\n",
              "    .colab-df-container {\n",
              "      display:flex;\n",
              "      gap: 12px;\n",
              "    }\n",
              "\n",
              "    .colab-df-convert {\n",
              "      background-color: #E8F0FE;\n",
              "      border: none;\n",
              "      border-radius: 50%;\n",
              "      cursor: pointer;\n",
              "      display: none;\n",
              "      fill: #1967D2;\n",
              "      height: 32px;\n",
              "      padding: 0 0 0 0;\n",
              "      width: 32px;\n",
              "    }\n",
              "\n",
              "    .colab-df-convert:hover {\n",
              "      background-color: #E2EBFA;\n",
              "      box-shadow: 0px 1px 2px rgba(60, 64, 67, 0.3), 0px 1px 3px 1px rgba(60, 64, 67, 0.15);\n",
              "      fill: #174EA6;\n",
              "    }\n",
              "\n",
              "    .colab-df-buttons div {\n",
              "      margin-bottom: 4px;\n",
              "    }\n",
              "\n",
              "    [theme=dark] .colab-df-convert {\n",
              "      background-color: #3B4455;\n",
              "      fill: #D2E3FC;\n",
              "    }\n",
              "\n",
              "    [theme=dark] .colab-df-convert:hover {\n",
              "      background-color: #434B5C;\n",
              "      box-shadow: 0px 1px 3px 1px rgba(0, 0, 0, 0.15);\n",
              "      filter: drop-shadow(0px 1px 2px rgba(0, 0, 0, 0.3));\n",
              "      fill: #FFFFFF;\n",
              "    }\n",
              "  </style>\n",
              "\n",
              "    <script>\n",
              "      const buttonEl =\n",
              "        document.querySelector('#df-0bb4a688-3d21-426f-95cd-e6d64c53f0d3 button.colab-df-convert');\n",
              "      buttonEl.style.display =\n",
              "        google.colab.kernel.accessAllowed ? 'block' : 'none';\n",
              "\n",
              "      async function convertToInteractive(key) {\n",
              "        const element = document.querySelector('#df-0bb4a688-3d21-426f-95cd-e6d64c53f0d3');\n",
              "        const dataTable =\n",
              "          await google.colab.kernel.invokeFunction('convertToInteractive',\n",
              "                                                    [key], {});\n",
              "        if (!dataTable) return;\n",
              "\n",
              "        const docLinkHtml = 'Like what you see? Visit the ' +\n",
              "          '<a target=\"_blank\" href=https://colab.research.google.com/notebooks/data_table.ipynb>data table notebook</a>'\n",
              "          + ' to learn more about interactive tables.';\n",
              "        element.innerHTML = '';\n",
              "        dataTable['output_type'] = 'display_data';\n",
              "        await google.colab.output.renderOutput(dataTable, element);\n",
              "        const docLink = document.createElement('div');\n",
              "        docLink.innerHTML = docLinkHtml;\n",
              "        element.appendChild(docLink);\n",
              "      }\n",
              "    </script>\n",
              "  </div>\n",
              "\n",
              "\n",
              "<div id=\"df-7b7603bd-0e7b-44e9-b795-520e7b581944\">\n",
              "  <button class=\"colab-df-quickchart\" onclick=\"quickchart('df-7b7603bd-0e7b-44e9-b795-520e7b581944')\"\n",
              "            title=\"Suggest charts\"\n",
              "            style=\"display:none;\">\n",
              "\n",
              "<svg xmlns=\"http://www.w3.org/2000/svg\" height=\"24px\"viewBox=\"0 0 24 24\"\n",
              "     width=\"24px\">\n",
              "    <g>\n",
              "        <path d=\"M19 3H5c-1.1 0-2 .9-2 2v14c0 1.1.9 2 2 2h14c1.1 0 2-.9 2-2V5c0-1.1-.9-2-2-2zM9 17H7v-7h2v7zm4 0h-2V7h2v10zm4 0h-2v-4h2v4z\"/>\n",
              "    </g>\n",
              "</svg>\n",
              "  </button>\n",
              "\n",
              "<style>\n",
              "  .colab-df-quickchart {\n",
              "      --bg-color: #E8F0FE;\n",
              "      --fill-color: #1967D2;\n",
              "      --hover-bg-color: #E2EBFA;\n",
              "      --hover-fill-color: #174EA6;\n",
              "      --disabled-fill-color: #AAA;\n",
              "      --disabled-bg-color: #DDD;\n",
              "  }\n",
              "\n",
              "  [theme=dark] .colab-df-quickchart {\n",
              "      --bg-color: #3B4455;\n",
              "      --fill-color: #D2E3FC;\n",
              "      --hover-bg-color: #434B5C;\n",
              "      --hover-fill-color: #FFFFFF;\n",
              "      --disabled-bg-color: #3B4455;\n",
              "      --disabled-fill-color: #666;\n",
              "  }\n",
              "\n",
              "  .colab-df-quickchart {\n",
              "    background-color: var(--bg-color);\n",
              "    border: none;\n",
              "    border-radius: 50%;\n",
              "    cursor: pointer;\n",
              "    display: none;\n",
              "    fill: var(--fill-color);\n",
              "    height: 32px;\n",
              "    padding: 0;\n",
              "    width: 32px;\n",
              "  }\n",
              "\n",
              "  .colab-df-quickchart:hover {\n",
              "    background-color: var(--hover-bg-color);\n",
              "    box-shadow: 0 1px 2px rgba(60, 64, 67, 0.3), 0 1px 3px 1px rgba(60, 64, 67, 0.15);\n",
              "    fill: var(--button-hover-fill-color);\n",
              "  }\n",
              "\n",
              "  .colab-df-quickchart-complete:disabled,\n",
              "  .colab-df-quickchart-complete:disabled:hover {\n",
              "    background-color: var(--disabled-bg-color);\n",
              "    fill: var(--disabled-fill-color);\n",
              "    box-shadow: none;\n",
              "  }\n",
              "\n",
              "  .colab-df-spinner {\n",
              "    border: 2px solid var(--fill-color);\n",
              "    border-color: transparent;\n",
              "    border-bottom-color: var(--fill-color);\n",
              "    animation:\n",
              "      spin 1s steps(1) infinite;\n",
              "  }\n",
              "\n",
              "  @keyframes spin {\n",
              "    0% {\n",
              "      border-color: transparent;\n",
              "      border-bottom-color: var(--fill-color);\n",
              "      border-left-color: var(--fill-color);\n",
              "    }\n",
              "    20% {\n",
              "      border-color: transparent;\n",
              "      border-left-color: var(--fill-color);\n",
              "      border-top-color: var(--fill-color);\n",
              "    }\n",
              "    30% {\n",
              "      border-color: transparent;\n",
              "      border-left-color: var(--fill-color);\n",
              "      border-top-color: var(--fill-color);\n",
              "      border-right-color: var(--fill-color);\n",
              "    }\n",
              "    40% {\n",
              "      border-color: transparent;\n",
              "      border-right-color: var(--fill-color);\n",
              "      border-top-color: var(--fill-color);\n",
              "    }\n",
              "    60% {\n",
              "      border-color: transparent;\n",
              "      border-right-color: var(--fill-color);\n",
              "    }\n",
              "    80% {\n",
              "      border-color: transparent;\n",
              "      border-right-color: var(--fill-color);\n",
              "      border-bottom-color: var(--fill-color);\n",
              "    }\n",
              "    90% {\n",
              "      border-color: transparent;\n",
              "      border-bottom-color: var(--fill-color);\n",
              "    }\n",
              "  }\n",
              "</style>\n",
              "\n",
              "  <script>\n",
              "    async function quickchart(key) {\n",
              "      const quickchartButtonEl =\n",
              "        document.querySelector('#' + key + ' button');\n",
              "      quickchartButtonEl.disabled = true;  // To prevent multiple clicks.\n",
              "      quickchartButtonEl.classList.add('colab-df-spinner');\n",
              "      try {\n",
              "        const charts = await google.colab.kernel.invokeFunction(\n",
              "            'suggestCharts', [key], {});\n",
              "      } catch (error) {\n",
              "        console.error('Error during call to suggestCharts:', error);\n",
              "      }\n",
              "      quickchartButtonEl.classList.remove('colab-df-spinner');\n",
              "      quickchartButtonEl.classList.add('colab-df-quickchart-complete');\n",
              "    }\n",
              "    (() => {\n",
              "      let quickchartButtonEl =\n",
              "        document.querySelector('#df-7b7603bd-0e7b-44e9-b795-520e7b581944 button');\n",
              "      quickchartButtonEl.style.display =\n",
              "        google.colab.kernel.accessAllowed ? 'block' : 'none';\n",
              "    })();\n",
              "  </script>\n",
              "</div>\n",
              "\n",
              "    </div>\n",
              "  </div>\n"
            ],
            "application/vnd.google.colaboratory.intrinsic+json": {
              "type": "dataframe",
              "variable_name": "lines"
            }
          },
          "metadata": {},
          "execution_count": 2
        }
      ],
      "source": [
        "lines = pd.read_csv(r\"/content/drive/MyDrive/Hindi_English_Truncated_Corpus.csv\", encoding ='utf-8')\n",
        "lines.head()"
      ]
    },
    {
      "cell_type": "markdown",
      "metadata": {
        "id": "lIZVztiGHUAv"
      },
      "source": [
        "## Explanatory Data Analysis"
      ]
    },
    {
      "cell_type": "code",
      "execution_count": 3,
      "metadata": {
        "id": "PLSJIE0GHVMY",
        "colab": {
          "base_uri": "https://localhost:8080/"
        },
        "outputId": "36bcdf84-f619-4a5a-d1ab-76360d2f5df6"
      },
      "outputs": [
        {
          "output_type": "execute_result",
          "data": {
            "text/plain": [
              "(127607, 3)"
            ]
          },
          "metadata": {},
          "execution_count": 3
        }
      ],
      "source": [
        "lines.shape"
      ]
    },
    {
      "cell_type": "code",
      "execution_count": 4,
      "metadata": {
        "id": "L4Ni4AHAHaJu",
        "colab": {
          "base_uri": "https://localhost:8080/"
        },
        "outputId": "b1244dbb-fb07-4dcd-8165-9d9e80746852"
      },
      "outputs": [
        {
          "output_type": "stream",
          "name": "stdout",
          "text": [
            "<class 'pandas.core.frame.DataFrame'>\n",
            "RangeIndex: 127607 entries, 0 to 127606\n",
            "Data columns (total 3 columns):\n",
            " #   Column            Non-Null Count   Dtype \n",
            "---  ------            --------------   ----- \n",
            " 0   source            127607 non-null  object\n",
            " 1   english_sentence  127605 non-null  object\n",
            " 2   hindi_sentence    127607 non-null  object\n",
            "dtypes: object(3)\n",
            "memory usage: 2.9+ MB\n"
          ]
        }
      ],
      "source": [
        "lines.info()"
      ]
    },
    {
      "cell_type": "markdown",
      "metadata": {
        "id": "GO1_6lRJHeg6"
      },
      "source": [
        "### Check for missing values"
      ]
    },
    {
      "cell_type": "code",
      "execution_count": 5,
      "metadata": {
        "id": "u-eTF5UoHfiy",
        "colab": {
          "base_uri": "https://localhost:8080/"
        },
        "outputId": "08333666-a0d3-47ce-d61d-36d9c4064cef"
      },
      "outputs": [
        {
          "output_type": "execute_result",
          "data": {
            "text/plain": [
              "source              0\n",
              "english_sentence    2\n",
              "hindi_sentence      0\n",
              "dtype: int64"
            ]
          },
          "metadata": {},
          "execution_count": 5
        }
      ],
      "source": [
        "lines.isnull().sum()"
      ]
    },
    {
      "cell_type": "markdown",
      "metadata": {
        "id": "hfMh0mxyHtWh"
      },
      "source": [
        "### Check for duplicates"
      ]
    },
    {
      "cell_type": "code",
      "execution_count": 6,
      "metadata": {
        "id": "IzC7urJ7HvtU",
        "colab": {
          "base_uri": "https://localhost:8080/"
        },
        "outputId": "c4e6b9fe-8afa-4383-ac3d-47e482d3f712"
      },
      "outputs": [
        {
          "output_type": "execute_result",
          "data": {
            "text/plain": [
              "2778"
            ]
          },
          "metadata": {},
          "execution_count": 6
        }
      ],
      "source": [
        "lines.duplicated().sum()"
      ]
    },
    {
      "cell_type": "markdown",
      "metadata": {
        "id": "NPR8Bbw1HzOj"
      },
      "source": [
        "### Handle missing values and duplicates"
      ]
    },
    {
      "cell_type": "code",
      "execution_count": 7,
      "metadata": {
        "id": "tyjgR9mIH17S"
      },
      "outputs": [],
      "source": [
        "lines = lines[lines['source'] == 'ted']\n",
        "lines = lines[~pd.isnull(lines['english_sentence'])]\n",
        "lines.drop_duplicates(inplace=True)"
      ]
    },
    {
      "cell_type": "code",
      "execution_count": 8,
      "metadata": {
        "id": "Kx3Lnp2uH6wT",
        "colab": {
          "base_uri": "https://localhost:8080/"
        },
        "outputId": "703af708-4641-4e74-e02e-0b01ee20fbd7"
      },
      "outputs": [
        {
          "output_type": "execute_result",
          "data": {
            "text/plain": [
              "(25000, 3)"
            ]
          },
          "metadata": {},
          "execution_count": 8
        }
      ],
      "source": [
        "# Pick any 25000 rows from the dataset\n",
        "lines = lines.sample(n=25000, random_state=42)\n",
        "lines.shape"
      ]
    },
    {
      "cell_type": "markdown",
      "metadata": {
        "id": "LNwEwMJMH9fl"
      },
      "source": [
        "### Text Preprocessing"
      ]
    },
    {
      "cell_type": "code",
      "execution_count": 9,
      "metadata": {
        "id": "GI9cDLthH-kr"
      },
      "outputs": [],
      "source": [
        "# Lower case all characters in the dataset for simplicity\n",
        "lines['english_sentence'] = lines['english_sentence'].apply(lambda x: x.lower())\n",
        "lines['hindi_sentence'] = lines['hindi_sentence'].apply(lambda x: x.lower())"
      ]
    },
    {
      "cell_type": "code",
      "execution_count": 10,
      "metadata": {
        "id": "3z1jhZnAICkT"
      },
      "outputs": [],
      "source": [
        "# Remove quotes from the data\n",
        "lines['english_sentence'] = lines['english_sentence'].apply(lambda x: re.sub(\"'\", '', x))\n",
        "lines['hindi_sentence'] = lines['hindi_sentence'].apply(lambda x: re.sub(\"'\", '', x))"
      ]
    },
    {
      "cell_type": "code",
      "execution_count": 11,
      "metadata": {
        "id": "PhG4ZJ2SIFkQ"
      },
      "outputs": [],
      "source": [
        "# Remove special characters\n",
        "exclude = set(string.punctuation) #set of all special characters\n",
        "\n",
        "lines['english_sentence'] = lines['english_sentence'].apply(lambda x: ''.join(ch for ch in x if ch not in exclude))\n",
        "lines['hindi_sentence'] = lines['hindi_sentence'].apply(lambda x: ''.join(ch for ch in x if ch not in exclude))"
      ]
    },
    {
      "cell_type": "code",
      "execution_count": 12,
      "metadata": {
        "id": "ZSMntby-IIWT"
      },
      "outputs": [],
      "source": [
        "# Remove numbers and extra spaces\n",
        "remove_digits = str.maketrans('', '', digits)\n",
        "lines['english_sentence'] = lines['english_sentence'].apply(lambda x: x.translate(remove_digits))\n",
        "lines['hindi_sentence'] = lines['hindi_sentence'].apply(lambda x: x.translate(remove_digits))\n",
        "\n",
        "lines['hindi_sentence'] = lines['hindi_sentence'].apply(lambda x: re.sub(\"२३०८१५७९४६\", \"\", x))\n",
        "\n",
        "# Remove extra spaces\n",
        "lines['english_sentence'] = lines['english_sentence'].apply(lambda x: x.strip())\n",
        "lines['hindi_sentence'] = lines['hindi_sentence'].apply(lambda x: x.strip())\n",
        "lines['english_sentence'] = lines['english_sentence'].apply(lambda x: re.sub(\" +\", \" \", x))\n",
        "lines['hindi_sentence'] = lines['hindi_sentence'].apply(lambda x: re.sub(\" +\", \" \", x))\n",
        "\n",
        "lines['hindi_sentence'] = lines['hindi_sentence'].apply(lambda x: 'START_ ' + x + '_END')"
      ]
    },
    {
      "cell_type": "code",
      "execution_count": 13,
      "metadata": {
        "id": "c8b6Pp7AILp1",
        "colab": {
          "base_uri": "https://localhost:8080/",
          "height": 206
        },
        "outputId": "e4c4de51-d92d-477b-dd51-46ce3b3c37b1"
      },
      "outputs": [
        {
          "output_type": "execute_result",
          "data": {
            "text/plain": [
              "       source                                   english_sentence  \\\n",
              "82040     ted  we still dont know who her parents are who she is   \n",
              "85038     ted                                        no keyboard   \n",
              "58018     ted                    but as far as being a performer   \n",
              "74470     ted                        and this particular balloon   \n",
              "122330    ted  and its not as hard as you think integrate cli...   \n",
              "\n",
              "                                           hindi_sentence  \n",
              "82040   START_ हम अभी तक नहीं जानते हैं कि उसके मातापि...  \n",
              "85038                        START_ कोई कुंजीपटल नहीं_END  \n",
              "58018              START_ लेकिन एक कलाकार होने के साथ_END  \n",
              "74470                       START_ और यह खास गुब्बारा_END  \n",
              "122330  START_ और जितना आपको लगता है यह उतना कठिन नहीं...  "
            ],
            "text/html": [
              "\n",
              "  <div id=\"df-24cdf0f3-2863-45c6-af12-4476ec2d0dbc\" class=\"colab-df-container\">\n",
              "    <div>\n",
              "<style scoped>\n",
              "    .dataframe tbody tr th:only-of-type {\n",
              "        vertical-align: middle;\n",
              "    }\n",
              "\n",
              "    .dataframe tbody tr th {\n",
              "        vertical-align: top;\n",
              "    }\n",
              "\n",
              "    .dataframe thead th {\n",
              "        text-align: right;\n",
              "    }\n",
              "</style>\n",
              "<table border=\"1\" class=\"dataframe\">\n",
              "  <thead>\n",
              "    <tr style=\"text-align: right;\">\n",
              "      <th></th>\n",
              "      <th>source</th>\n",
              "      <th>english_sentence</th>\n",
              "      <th>hindi_sentence</th>\n",
              "    </tr>\n",
              "  </thead>\n",
              "  <tbody>\n",
              "    <tr>\n",
              "      <th>82040</th>\n",
              "      <td>ted</td>\n",
              "      <td>we still dont know who her parents are who she is</td>\n",
              "      <td>START_ हम अभी तक नहीं जानते हैं कि उसके मातापि...</td>\n",
              "    </tr>\n",
              "    <tr>\n",
              "      <th>85038</th>\n",
              "      <td>ted</td>\n",
              "      <td>no keyboard</td>\n",
              "      <td>START_ कोई कुंजीपटल नहीं_END</td>\n",
              "    </tr>\n",
              "    <tr>\n",
              "      <th>58018</th>\n",
              "      <td>ted</td>\n",
              "      <td>but as far as being a performer</td>\n",
              "      <td>START_ लेकिन एक कलाकार होने के साथ_END</td>\n",
              "    </tr>\n",
              "    <tr>\n",
              "      <th>74470</th>\n",
              "      <td>ted</td>\n",
              "      <td>and this particular balloon</td>\n",
              "      <td>START_ और यह खास गुब्बारा_END</td>\n",
              "    </tr>\n",
              "    <tr>\n",
              "      <th>122330</th>\n",
              "      <td>ted</td>\n",
              "      <td>and its not as hard as you think integrate cli...</td>\n",
              "      <td>START_ और जितना आपको लगता है यह उतना कठिन नहीं...</td>\n",
              "    </tr>\n",
              "  </tbody>\n",
              "</table>\n",
              "</div>\n",
              "    <div class=\"colab-df-buttons\">\n",
              "\n",
              "  <div class=\"colab-df-container\">\n",
              "    <button class=\"colab-df-convert\" onclick=\"convertToInteractive('df-24cdf0f3-2863-45c6-af12-4476ec2d0dbc')\"\n",
              "            title=\"Convert this dataframe to an interactive table.\"\n",
              "            style=\"display:none;\">\n",
              "\n",
              "  <svg xmlns=\"http://www.w3.org/2000/svg\" height=\"24px\" viewBox=\"0 -960 960 960\">\n",
              "    <path d=\"M120-120v-720h720v720H120Zm60-500h600v-160H180v160Zm220 220h160v-160H400v160Zm0 220h160v-160H400v160ZM180-400h160v-160H180v160Zm440 0h160v-160H620v160ZM180-180h160v-160H180v160Zm440 0h160v-160H620v160Z\"/>\n",
              "  </svg>\n",
              "    </button>\n",
              "\n",
              "  <style>\n",
              "    .colab-df-container {\n",
              "      display:flex;\n",
              "      gap: 12px;\n",
              "    }\n",
              "\n",
              "    .colab-df-convert {\n",
              "      background-color: #E8F0FE;\n",
              "      border: none;\n",
              "      border-radius: 50%;\n",
              "      cursor: pointer;\n",
              "      display: none;\n",
              "      fill: #1967D2;\n",
              "      height: 32px;\n",
              "      padding: 0 0 0 0;\n",
              "      width: 32px;\n",
              "    }\n",
              "\n",
              "    .colab-df-convert:hover {\n",
              "      background-color: #E2EBFA;\n",
              "      box-shadow: 0px 1px 2px rgba(60, 64, 67, 0.3), 0px 1px 3px 1px rgba(60, 64, 67, 0.15);\n",
              "      fill: #174EA6;\n",
              "    }\n",
              "\n",
              "    .colab-df-buttons div {\n",
              "      margin-bottom: 4px;\n",
              "    }\n",
              "\n",
              "    [theme=dark] .colab-df-convert {\n",
              "      background-color: #3B4455;\n",
              "      fill: #D2E3FC;\n",
              "    }\n",
              "\n",
              "    [theme=dark] .colab-df-convert:hover {\n",
              "      background-color: #434B5C;\n",
              "      box-shadow: 0px 1px 3px 1px rgba(0, 0, 0, 0.15);\n",
              "      filter: drop-shadow(0px 1px 2px rgba(0, 0, 0, 0.3));\n",
              "      fill: #FFFFFF;\n",
              "    }\n",
              "  </style>\n",
              "\n",
              "    <script>\n",
              "      const buttonEl =\n",
              "        document.querySelector('#df-24cdf0f3-2863-45c6-af12-4476ec2d0dbc button.colab-df-convert');\n",
              "      buttonEl.style.display =\n",
              "        google.colab.kernel.accessAllowed ? 'block' : 'none';\n",
              "\n",
              "      async function convertToInteractive(key) {\n",
              "        const element = document.querySelector('#df-24cdf0f3-2863-45c6-af12-4476ec2d0dbc');\n",
              "        const dataTable =\n",
              "          await google.colab.kernel.invokeFunction('convertToInteractive',\n",
              "                                                    [key], {});\n",
              "        if (!dataTable) return;\n",
              "\n",
              "        const docLinkHtml = 'Like what you see? Visit the ' +\n",
              "          '<a target=\"_blank\" href=https://colab.research.google.com/notebooks/data_table.ipynb>data table notebook</a>'\n",
              "          + ' to learn more about interactive tables.';\n",
              "        element.innerHTML = '';\n",
              "        dataTable['output_type'] = 'display_data';\n",
              "        await google.colab.output.renderOutput(dataTable, element);\n",
              "        const docLink = document.createElement('div');\n",
              "        docLink.innerHTML = docLinkHtml;\n",
              "        element.appendChild(docLink);\n",
              "      }\n",
              "    </script>\n",
              "  </div>\n",
              "\n",
              "\n",
              "<div id=\"df-1cde7205-7d26-4ec0-b841-3f12a1363b07\">\n",
              "  <button class=\"colab-df-quickchart\" onclick=\"quickchart('df-1cde7205-7d26-4ec0-b841-3f12a1363b07')\"\n",
              "            title=\"Suggest charts\"\n",
              "            style=\"display:none;\">\n",
              "\n",
              "<svg xmlns=\"http://www.w3.org/2000/svg\" height=\"24px\"viewBox=\"0 0 24 24\"\n",
              "     width=\"24px\">\n",
              "    <g>\n",
              "        <path d=\"M19 3H5c-1.1 0-2 .9-2 2v14c0 1.1.9 2 2 2h14c1.1 0 2-.9 2-2V5c0-1.1-.9-2-2-2zM9 17H7v-7h2v7zm4 0h-2V7h2v10zm4 0h-2v-4h2v4z\"/>\n",
              "    </g>\n",
              "</svg>\n",
              "  </button>\n",
              "\n",
              "<style>\n",
              "  .colab-df-quickchart {\n",
              "      --bg-color: #E8F0FE;\n",
              "      --fill-color: #1967D2;\n",
              "      --hover-bg-color: #E2EBFA;\n",
              "      --hover-fill-color: #174EA6;\n",
              "      --disabled-fill-color: #AAA;\n",
              "      --disabled-bg-color: #DDD;\n",
              "  }\n",
              "\n",
              "  [theme=dark] .colab-df-quickchart {\n",
              "      --bg-color: #3B4455;\n",
              "      --fill-color: #D2E3FC;\n",
              "      --hover-bg-color: #434B5C;\n",
              "      --hover-fill-color: #FFFFFF;\n",
              "      --disabled-bg-color: #3B4455;\n",
              "      --disabled-fill-color: #666;\n",
              "  }\n",
              "\n",
              "  .colab-df-quickchart {\n",
              "    background-color: var(--bg-color);\n",
              "    border: none;\n",
              "    border-radius: 50%;\n",
              "    cursor: pointer;\n",
              "    display: none;\n",
              "    fill: var(--fill-color);\n",
              "    height: 32px;\n",
              "    padding: 0;\n",
              "    width: 32px;\n",
              "  }\n",
              "\n",
              "  .colab-df-quickchart:hover {\n",
              "    background-color: var(--hover-bg-color);\n",
              "    box-shadow: 0 1px 2px rgba(60, 64, 67, 0.3), 0 1px 3px 1px rgba(60, 64, 67, 0.15);\n",
              "    fill: var(--button-hover-fill-color);\n",
              "  }\n",
              "\n",
              "  .colab-df-quickchart-complete:disabled,\n",
              "  .colab-df-quickchart-complete:disabled:hover {\n",
              "    background-color: var(--disabled-bg-color);\n",
              "    fill: var(--disabled-fill-color);\n",
              "    box-shadow: none;\n",
              "  }\n",
              "\n",
              "  .colab-df-spinner {\n",
              "    border: 2px solid var(--fill-color);\n",
              "    border-color: transparent;\n",
              "    border-bottom-color: var(--fill-color);\n",
              "    animation:\n",
              "      spin 1s steps(1) infinite;\n",
              "  }\n",
              "\n",
              "  @keyframes spin {\n",
              "    0% {\n",
              "      border-color: transparent;\n",
              "      border-bottom-color: var(--fill-color);\n",
              "      border-left-color: var(--fill-color);\n",
              "    }\n",
              "    20% {\n",
              "      border-color: transparent;\n",
              "      border-left-color: var(--fill-color);\n",
              "      border-top-color: var(--fill-color);\n",
              "    }\n",
              "    30% {\n",
              "      border-color: transparent;\n",
              "      border-left-color: var(--fill-color);\n",
              "      border-top-color: var(--fill-color);\n",
              "      border-right-color: var(--fill-color);\n",
              "    }\n",
              "    40% {\n",
              "      border-color: transparent;\n",
              "      border-right-color: var(--fill-color);\n",
              "      border-top-color: var(--fill-color);\n",
              "    }\n",
              "    60% {\n",
              "      border-color: transparent;\n",
              "      border-right-color: var(--fill-color);\n",
              "    }\n",
              "    80% {\n",
              "      border-color: transparent;\n",
              "      border-right-color: var(--fill-color);\n",
              "      border-bottom-color: var(--fill-color);\n",
              "    }\n",
              "    90% {\n",
              "      border-color: transparent;\n",
              "      border-bottom-color: var(--fill-color);\n",
              "    }\n",
              "  }\n",
              "</style>\n",
              "\n",
              "  <script>\n",
              "    async function quickchart(key) {\n",
              "      const quickchartButtonEl =\n",
              "        document.querySelector('#' + key + ' button');\n",
              "      quickchartButtonEl.disabled = true;  // To prevent multiple clicks.\n",
              "      quickchartButtonEl.classList.add('colab-df-spinner');\n",
              "      try {\n",
              "        const charts = await google.colab.kernel.invokeFunction(\n",
              "            'suggestCharts', [key], {});\n",
              "      } catch (error) {\n",
              "        console.error('Error during call to suggestCharts:', error);\n",
              "      }\n",
              "      quickchartButtonEl.classList.remove('colab-df-spinner');\n",
              "      quickchartButtonEl.classList.add('colab-df-quickchart-complete');\n",
              "    }\n",
              "    (() => {\n",
              "      let quickchartButtonEl =\n",
              "        document.querySelector('#df-1cde7205-7d26-4ec0-b841-3f12a1363b07 button');\n",
              "      quickchartButtonEl.style.display =\n",
              "        google.colab.kernel.accessAllowed ? 'block' : 'none';\n",
              "    })();\n",
              "  </script>\n",
              "</div>\n",
              "\n",
              "    </div>\n",
              "  </div>\n"
            ],
            "application/vnd.google.colaboratory.intrinsic+json": {
              "type": "dataframe",
              "variable_name": "lines",
              "summary": "{\n  \"name\": \"lines\",\n  \"rows\": 25000,\n  \"fields\": [\n    {\n      \"column\": \"source\",\n      \"properties\": {\n        \"dtype\": \"category\",\n        \"num_unique_values\": 1,\n        \"samples\": [\n          \"ted\"\n        ],\n        \"semantic_type\": \"\",\n        \"description\": \"\"\n      }\n    },\n    {\n      \"column\": \"english_sentence\",\n      \"properties\": {\n        \"dtype\": \"string\",\n        \"num_unique_values\": 24870,\n        \"samples\": [\n          \"we actually have a very interesting payload on there\"\n        ],\n        \"semantic_type\": \"\",\n        \"description\": \"\"\n      }\n    },\n    {\n      \"column\": \"hindi_sentence\",\n      \"properties\": {\n        \"dtype\": \"string\",\n        \"num_unique_values\": 24925,\n        \"samples\": [\n          \"START_ \\u092e\\u0948\\u0902 \\u091c\\u093e\\u0928\\u0924\\u093e \\u0939\\u0942\\u0901 \\u0915\\u093f \\u0924\\u0941\\u092e \\u092e\\u0941\\u091d\\u0938\\u0947 \\u0938\\u0935\\u093e\\u0932 \\u092a\\u0942\\u091b\\u0928\\u0947 \\u0915\\u0940 \\u0905\\u0928\\u0941\\u092e\\u0924\\u093f \\u0928\\u0939\\u0940\\u0902 \\u0915\\u0930 \\u0930\\u0939\\u0947 \\u0939\\u0948\\u0902_END\"\n        ],\n        \"semantic_type\": \"\",\n        \"description\": \"\"\n      }\n    }\n  ]\n}"
            }
          },
          "metadata": {},
          "execution_count": 13
        }
      ],
      "source": [
        "lines.head()"
      ]
    },
    {
      "cell_type": "markdown",
      "source": [],
      "metadata": {
        "id": "2DX6qwYCHUJ-"
      }
    },
    {
      "cell_type": "markdown",
      "metadata": {
        "id": "HE6DmsHvIQyq"
      },
      "source": [
        "### Create Vocabularies of unique English and Hindi words in sentences"
      ]
    },
    {
      "cell_type": "code",
      "execution_count": 14,
      "metadata": {
        "id": "iaKgI8BzIRdb"
      },
      "outputs": [],
      "source": [
        "# Initialize sets to store unique words and populate them\n",
        "all_eng_words = set()\n",
        "for eng in lines['english_sentence']:\n",
        "    for word in eng.split():\n",
        "        if word not in all_eng_words:\n",
        "            all_eng_words.add(word)\n",
        "\n",
        "all_hindi_words = set()\n",
        "for hin in lines['hindi_sentence']:\n",
        "    for word in hin.split():\n",
        "        if word not in all_hindi_words:\n",
        "            all_hindi_words.add(word)\n",
        "\n",
        "# Calculate length of each English and Hindi sentence\n",
        "lines['length_eng_sentence'] = lines['english_sentence'].apply(lambda x:len(x.split(\" \")))\n",
        "lines['length_hindi_sentence'] = lines['hindi_sentence'].apply(lambda x:len(x.split(\" \")))"
      ]
    },
    {
      "cell_type": "markdown",
      "metadata": {
        "id": "WN3iqWqUIaiW"
      },
      "source": [
        "#### We filter out sentences that are longer than 20 words to simplify the training process and ensure that the model can handle the input within reasonable computational limits"
      ]
    },
    {
      "cell_type": "code",
      "execution_count": 15,
      "metadata": {
        "id": "ySy2Vi_RIcSO"
      },
      "outputs": [],
      "source": [
        "# Filter out Sentences that are too long\n",
        "lines = lines[lines['length_eng_sentence'] <=20]\n",
        "lines = lines[lines['length_hindi_sentence'] <=20]\n",
        "\n",
        "# Check maximum length of remaining sentences\n",
        "max_length_src = max(lines['length_hindi_sentence'])\n",
        "max_length_tar = max(lines['length_eng_sentence'])"
      ]
    },
    {
      "cell_type": "code",
      "execution_count": 16,
      "metadata": {
        "id": "f2c_GvH1IfWl",
        "colab": {
          "base_uri": "https://localhost:8080/",
          "height": 241
        },
        "outputId": "d86f1d7c-1bf7-4c83-a0b4-bd9a5e72ea69"
      },
      "outputs": [
        {
          "output_type": "execute_result",
          "data": {
            "text/plain": [
              "       source                                   english_sentence  \\\n",
              "82040     ted  we still dont know who her parents are who she is   \n",
              "85038     ted                                        no keyboard   \n",
              "58018     ted                    but as far as being a performer   \n",
              "74470     ted                        and this particular balloon   \n",
              "122330    ted  and its not as hard as you think integrate cli...   \n",
              "\n",
              "                                           hindi_sentence  \\\n",
              "82040   START_ हम अभी तक नहीं जानते हैं कि उसके मातापि...   \n",
              "85038                        START_ कोई कुंजीपटल नहीं_END   \n",
              "58018              START_ लेकिन एक कलाकार होने के साथ_END   \n",
              "74470                       START_ और यह खास गुब्बारा_END   \n",
              "122330  START_ और जितना आपको लगता है यह उतना कठिन नहीं...   \n",
              "\n",
              "        length_eng_sentence  length_hindi_sentence  \n",
              "82040                    11                     15  \n",
              "85038                     2                      4  \n",
              "58018                     7                      7  \n",
              "74470                     4                      5  \n",
              "122330                   16                     19  "
            ],
            "text/html": [
              "\n",
              "  <div id=\"df-139005bb-b00c-4da6-ae21-6a05dc3fa9d0\" class=\"colab-df-container\">\n",
              "    <div>\n",
              "<style scoped>\n",
              "    .dataframe tbody tr th:only-of-type {\n",
              "        vertical-align: middle;\n",
              "    }\n",
              "\n",
              "    .dataframe tbody tr th {\n",
              "        vertical-align: top;\n",
              "    }\n",
              "\n",
              "    .dataframe thead th {\n",
              "        text-align: right;\n",
              "    }\n",
              "</style>\n",
              "<table border=\"1\" class=\"dataframe\">\n",
              "  <thead>\n",
              "    <tr style=\"text-align: right;\">\n",
              "      <th></th>\n",
              "      <th>source</th>\n",
              "      <th>english_sentence</th>\n",
              "      <th>hindi_sentence</th>\n",
              "      <th>length_eng_sentence</th>\n",
              "      <th>length_hindi_sentence</th>\n",
              "    </tr>\n",
              "  </thead>\n",
              "  <tbody>\n",
              "    <tr>\n",
              "      <th>82040</th>\n",
              "      <td>ted</td>\n",
              "      <td>we still dont know who her parents are who she is</td>\n",
              "      <td>START_ हम अभी तक नहीं जानते हैं कि उसके मातापि...</td>\n",
              "      <td>11</td>\n",
              "      <td>15</td>\n",
              "    </tr>\n",
              "    <tr>\n",
              "      <th>85038</th>\n",
              "      <td>ted</td>\n",
              "      <td>no keyboard</td>\n",
              "      <td>START_ कोई कुंजीपटल नहीं_END</td>\n",
              "      <td>2</td>\n",
              "      <td>4</td>\n",
              "    </tr>\n",
              "    <tr>\n",
              "      <th>58018</th>\n",
              "      <td>ted</td>\n",
              "      <td>but as far as being a performer</td>\n",
              "      <td>START_ लेकिन एक कलाकार होने के साथ_END</td>\n",
              "      <td>7</td>\n",
              "      <td>7</td>\n",
              "    </tr>\n",
              "    <tr>\n",
              "      <th>74470</th>\n",
              "      <td>ted</td>\n",
              "      <td>and this particular balloon</td>\n",
              "      <td>START_ और यह खास गुब्बारा_END</td>\n",
              "      <td>4</td>\n",
              "      <td>5</td>\n",
              "    </tr>\n",
              "    <tr>\n",
              "      <th>122330</th>\n",
              "      <td>ted</td>\n",
              "      <td>and its not as hard as you think integrate cli...</td>\n",
              "      <td>START_ और जितना आपको लगता है यह उतना कठिन नहीं...</td>\n",
              "      <td>16</td>\n",
              "      <td>19</td>\n",
              "    </tr>\n",
              "  </tbody>\n",
              "</table>\n",
              "</div>\n",
              "    <div class=\"colab-df-buttons\">\n",
              "\n",
              "  <div class=\"colab-df-container\">\n",
              "    <button class=\"colab-df-convert\" onclick=\"convertToInteractive('df-139005bb-b00c-4da6-ae21-6a05dc3fa9d0')\"\n",
              "            title=\"Convert this dataframe to an interactive table.\"\n",
              "            style=\"display:none;\">\n",
              "\n",
              "  <svg xmlns=\"http://www.w3.org/2000/svg\" height=\"24px\" viewBox=\"0 -960 960 960\">\n",
              "    <path d=\"M120-120v-720h720v720H120Zm60-500h600v-160H180v160Zm220 220h160v-160H400v160Zm0 220h160v-160H400v160ZM180-400h160v-160H180v160Zm440 0h160v-160H620v160ZM180-180h160v-160H180v160Zm440 0h160v-160H620v160Z\"/>\n",
              "  </svg>\n",
              "    </button>\n",
              "\n",
              "  <style>\n",
              "    .colab-df-container {\n",
              "      display:flex;\n",
              "      gap: 12px;\n",
              "    }\n",
              "\n",
              "    .colab-df-convert {\n",
              "      background-color: #E8F0FE;\n",
              "      border: none;\n",
              "      border-radius: 50%;\n",
              "      cursor: pointer;\n",
              "      display: none;\n",
              "      fill: #1967D2;\n",
              "      height: 32px;\n",
              "      padding: 0 0 0 0;\n",
              "      width: 32px;\n",
              "    }\n",
              "\n",
              "    .colab-df-convert:hover {\n",
              "      background-color: #E2EBFA;\n",
              "      box-shadow: 0px 1px 2px rgba(60, 64, 67, 0.3), 0px 1px 3px 1px rgba(60, 64, 67, 0.15);\n",
              "      fill: #174EA6;\n",
              "    }\n",
              "\n",
              "    .colab-df-buttons div {\n",
              "      margin-bottom: 4px;\n",
              "    }\n",
              "\n",
              "    [theme=dark] .colab-df-convert {\n",
              "      background-color: #3B4455;\n",
              "      fill: #D2E3FC;\n",
              "    }\n",
              "\n",
              "    [theme=dark] .colab-df-convert:hover {\n",
              "      background-color: #434B5C;\n",
              "      box-shadow: 0px 1px 3px 1px rgba(0, 0, 0, 0.15);\n",
              "      filter: drop-shadow(0px 1px 2px rgba(0, 0, 0, 0.3));\n",
              "      fill: #FFFFFF;\n",
              "    }\n",
              "  </style>\n",
              "\n",
              "    <script>\n",
              "      const buttonEl =\n",
              "        document.querySelector('#df-139005bb-b00c-4da6-ae21-6a05dc3fa9d0 button.colab-df-convert');\n",
              "      buttonEl.style.display =\n",
              "        google.colab.kernel.accessAllowed ? 'block' : 'none';\n",
              "\n",
              "      async function convertToInteractive(key) {\n",
              "        const element = document.querySelector('#df-139005bb-b00c-4da6-ae21-6a05dc3fa9d0');\n",
              "        const dataTable =\n",
              "          await google.colab.kernel.invokeFunction('convertToInteractive',\n",
              "                                                    [key], {});\n",
              "        if (!dataTable) return;\n",
              "\n",
              "        const docLinkHtml = 'Like what you see? Visit the ' +\n",
              "          '<a target=\"_blank\" href=https://colab.research.google.com/notebooks/data_table.ipynb>data table notebook</a>'\n",
              "          + ' to learn more about interactive tables.';\n",
              "        element.innerHTML = '';\n",
              "        dataTable['output_type'] = 'display_data';\n",
              "        await google.colab.output.renderOutput(dataTable, element);\n",
              "        const docLink = document.createElement('div');\n",
              "        docLink.innerHTML = docLinkHtml;\n",
              "        element.appendChild(docLink);\n",
              "      }\n",
              "    </script>\n",
              "  </div>\n",
              "\n",
              "\n",
              "<div id=\"df-63a3ab51-de78-4c42-877c-ec581f4e2b17\">\n",
              "  <button class=\"colab-df-quickchart\" onclick=\"quickchart('df-63a3ab51-de78-4c42-877c-ec581f4e2b17')\"\n",
              "            title=\"Suggest charts\"\n",
              "            style=\"display:none;\">\n",
              "\n",
              "<svg xmlns=\"http://www.w3.org/2000/svg\" height=\"24px\"viewBox=\"0 0 24 24\"\n",
              "     width=\"24px\">\n",
              "    <g>\n",
              "        <path d=\"M19 3H5c-1.1 0-2 .9-2 2v14c0 1.1.9 2 2 2h14c1.1 0 2-.9 2-2V5c0-1.1-.9-2-2-2zM9 17H7v-7h2v7zm4 0h-2V7h2v10zm4 0h-2v-4h2v4z\"/>\n",
              "    </g>\n",
              "</svg>\n",
              "  </button>\n",
              "\n",
              "<style>\n",
              "  .colab-df-quickchart {\n",
              "      --bg-color: #E8F0FE;\n",
              "      --fill-color: #1967D2;\n",
              "      --hover-bg-color: #E2EBFA;\n",
              "      --hover-fill-color: #174EA6;\n",
              "      --disabled-fill-color: #AAA;\n",
              "      --disabled-bg-color: #DDD;\n",
              "  }\n",
              "\n",
              "  [theme=dark] .colab-df-quickchart {\n",
              "      --bg-color: #3B4455;\n",
              "      --fill-color: #D2E3FC;\n",
              "      --hover-bg-color: #434B5C;\n",
              "      --hover-fill-color: #FFFFFF;\n",
              "      --disabled-bg-color: #3B4455;\n",
              "      --disabled-fill-color: #666;\n",
              "  }\n",
              "\n",
              "  .colab-df-quickchart {\n",
              "    background-color: var(--bg-color);\n",
              "    border: none;\n",
              "    border-radius: 50%;\n",
              "    cursor: pointer;\n",
              "    display: none;\n",
              "    fill: var(--fill-color);\n",
              "    height: 32px;\n",
              "    padding: 0;\n",
              "    width: 32px;\n",
              "  }\n",
              "\n",
              "  .colab-df-quickchart:hover {\n",
              "    background-color: var(--hover-bg-color);\n",
              "    box-shadow: 0 1px 2px rgba(60, 64, 67, 0.3), 0 1px 3px 1px rgba(60, 64, 67, 0.15);\n",
              "    fill: var(--button-hover-fill-color);\n",
              "  }\n",
              "\n",
              "  .colab-df-quickchart-complete:disabled,\n",
              "  .colab-df-quickchart-complete:disabled:hover {\n",
              "    background-color: var(--disabled-bg-color);\n",
              "    fill: var(--disabled-fill-color);\n",
              "    box-shadow: none;\n",
              "  }\n",
              "\n",
              "  .colab-df-spinner {\n",
              "    border: 2px solid var(--fill-color);\n",
              "    border-color: transparent;\n",
              "    border-bottom-color: var(--fill-color);\n",
              "    animation:\n",
              "      spin 1s steps(1) infinite;\n",
              "  }\n",
              "\n",
              "  @keyframes spin {\n",
              "    0% {\n",
              "      border-color: transparent;\n",
              "      border-bottom-color: var(--fill-color);\n",
              "      border-left-color: var(--fill-color);\n",
              "    }\n",
              "    20% {\n",
              "      border-color: transparent;\n",
              "      border-left-color: var(--fill-color);\n",
              "      border-top-color: var(--fill-color);\n",
              "    }\n",
              "    30% {\n",
              "      border-color: transparent;\n",
              "      border-left-color: var(--fill-color);\n",
              "      border-top-color: var(--fill-color);\n",
              "      border-right-color: var(--fill-color);\n",
              "    }\n",
              "    40% {\n",
              "      border-color: transparent;\n",
              "      border-right-color: var(--fill-color);\n",
              "      border-top-color: var(--fill-color);\n",
              "    }\n",
              "    60% {\n",
              "      border-color: transparent;\n",
              "      border-right-color: var(--fill-color);\n",
              "    }\n",
              "    80% {\n",
              "      border-color: transparent;\n",
              "      border-right-color: var(--fill-color);\n",
              "      border-bottom-color: var(--fill-color);\n",
              "    }\n",
              "    90% {\n",
              "      border-color: transparent;\n",
              "      border-bottom-color: var(--fill-color);\n",
              "    }\n",
              "  }\n",
              "</style>\n",
              "\n",
              "  <script>\n",
              "    async function quickchart(key) {\n",
              "      const quickchartButtonEl =\n",
              "        document.querySelector('#' + key + ' button');\n",
              "      quickchartButtonEl.disabled = true;  // To prevent multiple clicks.\n",
              "      quickchartButtonEl.classList.add('colab-df-spinner');\n",
              "      try {\n",
              "        const charts = await google.colab.kernel.invokeFunction(\n",
              "            'suggestCharts', [key], {});\n",
              "      } catch (error) {\n",
              "        console.error('Error during call to suggestCharts:', error);\n",
              "      }\n",
              "      quickchartButtonEl.classList.remove('colab-df-spinner');\n",
              "      quickchartButtonEl.classList.add('colab-df-quickchart-complete');\n",
              "    }\n",
              "    (() => {\n",
              "      let quickchartButtonEl =\n",
              "        document.querySelector('#df-63a3ab51-de78-4c42-877c-ec581f4e2b17 button');\n",
              "      quickchartButtonEl.style.display =\n",
              "        google.colab.kernel.accessAllowed ? 'block' : 'none';\n",
              "    })();\n",
              "  </script>\n",
              "</div>\n",
              "\n",
              "    </div>\n",
              "  </div>\n"
            ],
            "application/vnd.google.colaboratory.intrinsic+json": {
              "type": "dataframe",
              "variable_name": "lines",
              "summary": "{\n  \"name\": \"lines\",\n  \"rows\": 24867,\n  \"fields\": [\n    {\n      \"column\": \"source\",\n      \"properties\": {\n        \"dtype\": \"category\",\n        \"num_unique_values\": 1,\n        \"samples\": [\n          \"ted\"\n        ],\n        \"semantic_type\": \"\",\n        \"description\": \"\"\n      }\n    },\n    {\n      \"column\": \"english_sentence\",\n      \"properties\": {\n        \"dtype\": \"string\",\n        \"num_unique_values\": 24737,\n        \"samples\": [\n          \"no agile aerial robots like this one\"\n        ],\n        \"semantic_type\": \"\",\n        \"description\": \"\"\n      }\n    },\n    {\n      \"column\": \"hindi_sentence\",\n      \"properties\": {\n        \"dtype\": \"string\",\n        \"num_unique_values\": 24792,\n        \"samples\": [\n          \"START_ \\u0915\\u093f \\u0939\\u092e \\u0906\\u092a\\u0915\\u0947 \\u0915\\u092e\\u094d\\u092a\\u094d\\u092f\\u0942\\u091f\\u0930 \\u092e\\u0947\\u0902 \\u0918\\u0941\\u0938\\u0947 \\u0939\\u0948\\u0902_END\"\n        ],\n        \"semantic_type\": \"\",\n        \"description\": \"\"\n      }\n    },\n    {\n      \"column\": \"length_eng_sentence\",\n      \"properties\": {\n        \"dtype\": \"number\",\n        \"std\": 2,\n        \"min\": 1,\n        \"max\": 20,\n        \"num_unique_values\": 20,\n        \"samples\": [\n          11\n        ],\n        \"semantic_type\": \"\",\n        \"description\": \"\"\n      }\n    },\n    {\n      \"column\": \"length_hindi_sentence\",\n      \"properties\": {\n        \"dtype\": \"number\",\n        \"std\": 3,\n        \"min\": 2,\n        \"max\": 20,\n        \"num_unique_values\": 19,\n        \"samples\": [\n          15\n        ],\n        \"semantic_type\": \"\",\n        \"description\": \"\"\n      }\n    }\n  ]\n}"
            }
          },
          "metadata": {},
          "execution_count": 16
        }
      ],
      "source": [
        "lines.head()"
      ]
    },
    {
      "cell_type": "markdown",
      "metadata": {
        "id": "BdrFam1MIlXD"
      },
      "source": [
        "## Concept of Encoding and Decoding in Machine Learning\n",
        "### Encoding\n",
        "Purpose: Convert human-readable text into a numerical format that a machine learning model can process.\n",
        "##### Process:\n",
        "##### Tokenization: Break down sentences into individual words or tokens.\n",
        "##### Indexing: Assign each unique word a unique number (index).\n",
        "##### Mapping: Create dictionaries to map words to their corresponding indices.\n",
        "##### Padding: Ensure all sequences (sentences) are the same length by adding special tokens (e.g., zero-padding) where necessary.\n",
        "\n",
        "### Decoding\n",
        "Purpose: Convert the numerical output of a machine learning model back into human-readable text.\n",
        "##### Process:\n",
        "##### Reverse Mapping: Use the dictionaries created during encoding to map indices back to their corresponding words.\n",
        "##### Sequence Generation: Form sentences by combining the words obtained from the reverse mapping.\n",
        "\n",
        "#### In this context:\n",
        "##### Encoder: The part of the model that processes the input sentence (e.g., English sentence) and converts it into a numerical format (encoded representation).\n",
        "##### Decoder: The part of the model that takes the encoded representation and generates the output sentence (e.g., Hindi sentence) in numerical format, which is then converted back to text."
      ]
    },
    {
      "cell_type": "code",
      "execution_count": 17,
      "metadata": {
        "id": "-u6yj-EOIy_Y"
      },
      "outputs": [],
      "source": [
        "# Sort list of all unique English and Hindi words\n",
        "input_words = sorted(list(all_eng_words))\n",
        "target_words = sorted(list(all_hindi_words))\n",
        "\n",
        "# Calculate the number of unique tokens (words) in each language\n",
        "num_encoder_tokens = len(all_eng_words)\n",
        "num_decoder_tokens = len(all_hindi_words)\n",
        "\n",
        "# Ensure number of encoder tokens matches that of decoder tokens\n",
        "num_encoder_tokens = num_decoder_tokens\n",
        "num_decoder_tokens += 1 #for zero padding\n",
        "\n",
        "# Create a dictionary that maps each English word to a unique index\n",
        "input_token_index = dict([(word, i+1) for i, word in enumerate(input_words)])\n",
        "\n",
        "# Create a dictionary that maps each Hindi word to a unique index\n",
        "target_token_index = dict([(word, i+1) for i, word in enumerate(target_words)])\n",
        "\n",
        "# Create a reverse dictionary that maps each index back to the corresponding English word\n",
        "reverse_input_char_index = dict((i, word) for word, i in input_token_index.items())\n",
        "\n",
        "# Create a reverse dictionary that maps each index back to the corresponding Hindi word\n",
        "reverse_target_char_index = dict((i, word) for word, i in target_token_index.items())\n",
        "\n",
        "# Shuffle the dataset to ensure randomness\n",
        "lines = shuffle(lines)"
      ]
    },
    {
      "cell_type": "markdown",
      "metadata": {
        "id": "6-hff8p7I5es"
      },
      "source": [
        "## Training model to translate English to Hindi"
      ]
    },
    {
      "cell_type": "code",
      "execution_count": 18,
      "metadata": {
        "id": "qfWZE6HaI7N_"
      },
      "outputs": [],
      "source": [
        "# Split the dataset to training and testing sets\n",
        "X, y = lines['english_sentence'], lines['hindi_sentence']\n",
        "X_train, X_test, y_train, y_test = train_test_split(X, y, test_size = 0.2, random_state=42)\n",
        "\n",
        "# Save Data to Pickle files\n",
        "X_train.to_pickle('/content/drive/MyDrive/Saved_Models/X_train.pk1')\n",
        "X_test.to_pickle('/content/drive/MyDrive/Saved_Models/X_test.pk1')"
      ]
    },
    {
      "cell_type": "markdown",
      "metadata": {
        "id": "errLI28aJA-J"
      },
      "source": [
        "This function prepares batches of data for training by encoding input and output sequences into numerical formats (encoder_input_data, decoder_input_data, decoder_target_data). It handles tokenization, indexing, and one-hot encoding necessary for training a sequence-to-sequence model, ensuring each batch is ready for consumption by the neural network.\n",
        "\n",
        "The use of a generator allows for memory-efficient processing, especially useful for handling large datasets in machine learning tasks."
      ]
    },
    {
      "cell_type": "code",
      "execution_count": 19,
      "metadata": {
        "id": "bscy151GJCRi",
        "colab": {
          "base_uri": "https://localhost:8080/"
        },
        "outputId": "454cf402-e5b5-4100-f32d-33a44755a454"
      },
      "outputs": [
        {
          "output_type": "stream",
          "name": "stdout",
          "text": [
            "Model: \"model\"\n",
            "__________________________________________________________________________________________________\n",
            " Layer (type)                Output Shape                 Param #   Connected to                  \n",
            "==================================================================================================\n",
            " input_1 (InputLayer)        [(None, None)]               0         []                            \n",
            "                                                                                                  \n",
            " input_2 (InputLayer)        [(None, None)]               0         []                            \n",
            "                                                                                                  \n",
            " embedding (Embedding)       (None, None, 300)            5935800   ['input_1[0][0]']             \n",
            "                                                                                                  \n",
            " embedding_1 (Embedding)     (None, None, 300)            5936100   ['input_2[0][0]']             \n",
            "                                                                                                  \n",
            " lstm (LSTM)                 [(None, 300),                721200    ['embedding[0][0]']           \n",
            "                              (None, 300),                                                        \n",
            "                              (None, 300)]                                                        \n",
            "                                                                                                  \n",
            " lstm_1 (LSTM)               [(None, None, 300),          721200    ['embedding_1[0][0]',         \n",
            "                              (None, 300),                           'lstm[0][1]',                \n",
            "                              (None, 300)]                           'lstm[0][2]']                \n",
            "                                                                                                  \n",
            " dense (Dense)               (None, None, 19787)          5955887   ['lstm_1[0][0]']              \n",
            "                                                                                                  \n",
            "==================================================================================================\n",
            "Total params: 19270187 (73.51 MB)\n",
            "Trainable params: 19270187 (73.51 MB)\n",
            "Non-trainable params: 0 (0.00 Byte)\n",
            "__________________________________________________________________________________________________\n"
          ]
        }
      ],
      "source": [
        "def generate_batch (X = X_train, y = y_train, batch_size = 128):\n",
        "    ''' Generate a batch of data '''''\n",
        "    while True:\n",
        "        for j in range (0, len(X), batch_size):\n",
        "            encoder_input_data = np.zeros((batch_size, max_length_src), dtype='float32')\n",
        "            decoder_input_data = np.zeros((batch_size, max_length_tar), dtype='float32')\n",
        "            decoder_target_data = np.zeros((batch_size, max_length_tar, num_decoder_tokens), dtype='float32')\n",
        "            for i, (input_text, target_text) in enumerate(zip(X[j:j+batch_size], y[j:j+batch_size])):\n",
        "                for t, word in enumerate(input_text.split()):\n",
        "                    encoder_input_data[i, t] = input_token_index[word] # encoder input seq\n",
        "                for t, word in enumerate(target_text.split()):\n",
        "                    if t<len(target_text.split())-1:\n",
        "                        decoder_input_data[i, t] = target_token_index[word] #decoder input seq\n",
        "                    if t>0:\n",
        "                        # decoder target sequence (one hot encoded)\n",
        "                        # does not include the START_ token\n",
        "                        # Offset by one timestep\n",
        "                        decoder_target_data[i, t - 1, target_token_index[word]] = 1.\n",
        "            yield([encoder_input_data, decoder_input_data], decoder_target_data)\n",
        "\n",
        "# Define the dimensionality of the latent space\n",
        "latent_dim = 300\n",
        "\n",
        "# Define encoder input layer\n",
        "encoder_inputs = Input(shape=(None,))\n",
        "\n",
        "# Embedding layer for tokenizing and converting input sequences into dense vectors\n",
        "enc_emb = Embedding(num_encoder_tokens, latent_dim, mask_zero=True)(encoder_inputs)\n",
        "\n",
        "# LSTM layer in the encoder to process input sequences and return states\n",
        "encoder_lstm = LSTM(latent_dim, return_state=True)\n",
        "\n",
        "# Get encoder outputs (sequence), final hidden state, and final cell state\n",
        "encoder_outputs, state_h, state_c = encoder_lstm(enc_emb)\n",
        "\n",
        "# Keep only the states (final hidden and cell states) for later use in decoding\n",
        "encoder_states = [state_h, state_c]\n",
        "\n",
        "# Define decoder input layer\n",
        "decoder_inputs = Input(shape=(None,))\n",
        "\n",
        "# Embedding layer for tokenizing and converting decoder input sequences\n",
        "dec_emb_layer = Embedding(num_decoder_tokens, latent_dim, mask_zero=True)\n",
        "dec_emb = dec_emb_layer(decoder_inputs)\n",
        "\n",
        "# LSTM layer in the decoder to generate output sequences and return states\n",
        "decoder_lstm = LSTM(latent_dim, return_sequences=True, return_state=True)\n",
        "\n",
        "# Get decoder outputs (sequences), hidden state, and cell state using encoder states as initial states\n",
        "decoder_outputs, _, _ = decoder_lstm(dec_emb, initial_state=encoder_states)\n",
        "\n",
        "# Dense layer to predict probabilities over the target vocabulary\n",
        "decoder_dense = Dense(num_decoder_tokens, activation='softmax')\n",
        "\n",
        "decoder_outputs = decoder_dense(decoder_outputs)\n",
        "\n",
        "# Define the entire model that inputs encoder and decoder inputs and outputs decoder outputs\n",
        "model = Model([encoder_inputs, decoder_inputs], decoder_outputs)\n",
        "\n",
        "# Compile the model with RMSprop optimizer and categorical crossentropy loss function\n",
        "model.compile(optimizer='rmsprop', loss='categorical_crossentropy')\n",
        "\n",
        "# Print model summary to show its architecture and parameters\n",
        "model.summary()\n",
        "\n",
        "# Calculate number of samples in training and validation sets\n",
        "train_samples = len(X_train)\n",
        "val_samples = len(X_test)\n",
        "\n",
        "# Define batch size and number of epochs for training\n",
        "batch_size = 128\n",
        "epochs = 100"
      ]
    },
    {
      "cell_type": "code",
      "source": [
        "checkpoint_callback = ModelCheckpoint(\n",
        "    filepath='/content/drive/MyDrive/Saved_Models/checkpoint.h5',\n",
        "    save_weights_only=True,\n",
        "    save_best_only=False,\n",
        "    save_freq='epoch'\n",
        ")"
      ],
      "metadata": {
        "id": "wQF3GbUjY639"
      },
      "execution_count": 20,
      "outputs": []
    },
    {
      "cell_type": "code",
      "execution_count": null,
      "metadata": {
        "id": "3TS7eAEaJT3D",
        "colab": {
          "base_uri": "https://localhost:8080/"
        },
        "outputId": "a843b1e7-46ad-463d-a8dc-b1472cc1aa3e"
      },
      "outputs": [
        {
          "output_type": "stream",
          "name": "stderr",
          "text": [
            "<ipython-input-21-dd796b3ec423>:2: UserWarning: `Model.fit_generator` is deprecated and will be removed in a future version. Please use `Model.fit`, which supports generators.\n",
            "  model.fit_generator(generator = generate_batch(X_train, y_train, batch_size = batch_size),\n"
          ]
        },
        {
          "output_type": "stream",
          "name": "stdout",
          "text": [
            "Epoch 1/100\n",
            "155/155 [==============================] - 582s 4s/step - loss: 7.6571 - val_loss: 7.0219\n",
            "Epoch 2/100\n",
            "155/155 [==============================] - 575s 4s/step - loss: 6.9751 - val_loss: 6.9789\n",
            "Epoch 3/100\n",
            "155/155 [==============================] - 604s 4s/step - loss: 6.9221 - val_loss: 6.9565\n",
            "Epoch 4/100\n",
            "155/155 [==============================] - 570s 4s/step - loss: 6.8932 - val_loss: 6.9390\n",
            "Epoch 5/100\n",
            "155/155 [==============================] - 570s 4s/step - loss: 6.8542 - val_loss: 6.8917\n",
            "Epoch 6/100\n",
            "155/155 [==============================] - 571s 4s/step - loss: 6.7837 - val_loss: 6.8182\n",
            "Epoch 7/100\n",
            "155/155 [==============================] - 574s 4s/step - loss: 6.6958 - val_loss: 6.7370\n",
            "Epoch 8/100\n",
            "155/155 [==============================] - 605s 4s/step - loss: 6.5983 - val_loss: 6.6591\n",
            "Epoch 9/100\n",
            "155/155 [==============================] - 599s 4s/step - loss: 6.5046 - val_loss: 6.5707\n",
            "Epoch 10/100\n",
            "155/155 [==============================] - 570s 4s/step - loss: 6.4226 - val_loss: 6.5183\n",
            "Epoch 11/100\n",
            "155/155 [==============================] - 595s 4s/step - loss: 6.3440 - val_loss: 6.4525\n",
            "Epoch 12/100\n",
            "155/155 [==============================] - 602s 4s/step - loss: 6.2710 - val_loss: 6.4101\n",
            "Epoch 13/100\n",
            "155/155 [==============================] - 571s 4s/step - loss: 6.2003 - val_loss: 6.3462\n",
            "Epoch 14/100\n",
            "155/155 [==============================] - 590s 4s/step - loss: 6.1323 - val_loss: 6.3075\n",
            "Epoch 15/100\n",
            "155/155 [==============================] - 571s 4s/step - loss: 6.0697 - val_loss: 6.2796\n",
            "Epoch 16/100\n",
            "155/155 [==============================] - 572s 4s/step - loss: 6.0107 - val_loss: 6.2483\n",
            "Epoch 17/100\n",
            "155/155 [==============================] - 566s 4s/step - loss: 5.9564 - val_loss: 6.2087\n",
            "Epoch 18/100\n",
            "155/155 [==============================] - 577s 4s/step - loss: 5.9038 - val_loss: 6.1868\n",
            "Epoch 19/100\n",
            "155/155 [==============================] - 600s 4s/step - loss: 5.8532 - val_loss: 6.1578\n",
            "Epoch 20/100\n",
            "155/155 [==============================] - 583s 4s/step - loss: 5.8038 - val_loss: 6.1332\n",
            "Epoch 21/100\n",
            "155/155 [==============================] - 577s 4s/step - loss: 5.7572 - val_loss: 6.1191\n",
            "Epoch 22/100\n",
            "155/155 [==============================] - 566s 4s/step - loss: 5.7112 - val_loss: 6.0944\n",
            "Epoch 23/100\n",
            "155/155 [==============================] - 569s 4s/step - loss: 5.6612 - val_loss: 6.0756\n",
            "Epoch 24/100\n",
            " 49/155 [========>.....................] - ETA: 6:05 - loss: 5.6386"
          ]
        }
      ],
      "source": [
        "# Train the model using a generator function for batches of data\n",
        "model.fit_generator(generator = generate_batch(X_train, y_train, batch_size = batch_size),\n",
        "                    steps_per_epoch = train_samples//batch_size, # Number of batches per epoch\n",
        "                    epochs=epochs, # Number of training epochs\n",
        "                    validation_data = generate_batch(X_test, y_test, batch_size = batch_size),\n",
        "                    validation_steps = val_samples//batch_size,\n",
        "                    callbacks=[checkpoint_callback])\n",
        "\n",
        "# Save the weights of the trained model to a file\n",
        "model.save_weights('/content/drive/MyDrive/Saved_Models/checkpoint.h5')"
      ]
    },
    {
      "cell_type": "code",
      "source": [
        "model.load_weights('/content/drive/MyDrive/Saved_Models/checkpoint.h5')\n",
        "\n",
        "# Resume training from the last saved epoch\n",
        "model.fit_generator(\n",
        "    generator=generate_batch(X_train, y_train, batch_size=batch_size),\n",
        "    steps_per_epoch=train_samples // batch_size,  # Number of batches per epoch\n",
        "    epochs=epochs,  # Number of training epochs (total epochs, not additional epochs)\n",
        "    initial_epoch=23,  # the last completed epoch\n",
        "    validation_data=generate_batch(X_test, y_test, batch_size=batch_size),\n",
        "    validation_steps=val_samples // batch_size,\n",
        "    callbacks=[checkpoint_callback]\n",
        ")"
      ],
      "metadata": {
        "colab": {
          "base_uri": "https://localhost:8080/"
        },
        "id": "D70-VD_sTh11",
        "outputId": "a4c0a929-64ff-44e1-bba5-41e71bcb5336"
      },
      "execution_count": null,
      "outputs": [
        {
          "metadata": {
            "tags": null
          },
          "name": "stderr",
          "output_type": "stream",
          "text": [
            "<ipython-input-23-a1a9a719e4ae>:4: UserWarning: `Model.fit_generator` is deprecated and will be removed in a future version. Please use `Model.fit`, which supports generators.\n",
            "  model.fit_generator(\n"
          ]
        },
        {
          "output_type": "stream",
          "name": "stdout",
          "text": [
            "Epoch 24/100\n",
            "155/155 [==============================] - 666s 4s/step - loss: 5.4783 - val_loss: 5.5173\n",
            "Epoch 25/100\n",
            "155/155 [==============================] - 665s 4s/step - loss: 5.4139 - val_loss: 5.5345\n",
            "Epoch 26/100\n",
            "155/155 [==============================] - 643s 4s/step - loss: 5.3599 - val_loss: 5.5341\n",
            "Epoch 27/100\n",
            "155/155 [==============================] - 657s 4s/step - loss: 5.3092 - val_loss: 5.5501\n",
            "Epoch 28/100\n",
            "155/155 [==============================] - 642s 4s/step - loss: 5.2623 - val_loss: 5.5458\n",
            "Epoch 29/100\n",
            "155/155 [==============================] - 653s 4s/step - loss: 5.2148 - val_loss: 5.5439\n",
            "Epoch 30/100\n",
            "155/155 [==============================] - 637s 4s/step - loss: 5.1694 - val_loss: 5.5519\n",
            "Epoch 31/100\n",
            "155/155 [==============================] - 653s 4s/step - loss: 5.1247 - val_loss: 5.5585\n",
            "Epoch 32/100\n",
            "155/155 [==============================] - 644s 4s/step - loss: 5.0815 - val_loss: 5.5582\n",
            "Epoch 33/100\n",
            "155/155 [==============================] - 654s 4s/step - loss: 5.0377 - val_loss: 5.5605\n",
            "Epoch 34/100\n",
            "155/155 [==============================] - 652s 4s/step - loss: 4.9981 - val_loss: 5.5531\n",
            "Epoch 35/100\n",
            "155/155 [==============================] - 671s 4s/step - loss: 4.9557 - val_loss: 5.5765\n",
            "Epoch 36/100\n",
            "155/155 [==============================] - 675s 4s/step - loss: 4.9153 - val_loss: 5.5703\n",
            "Epoch 37/100\n",
            "155/155 [==============================] - 673s 4s/step - loss: 4.8745 - val_loss: 5.5622\n",
            "Epoch 38/100\n",
            "155/155 [==============================] - 649s 4s/step - loss: 4.8355 - val_loss: 5.5693\n",
            "Epoch 39/100\n",
            "155/155 [==============================] - 657s 4s/step - loss: 4.7963 - val_loss: 5.5810\n",
            "Epoch 40/100\n",
            "155/155 [==============================] - 662s 4s/step - loss: 4.7601 - val_loss: 5.5755\n",
            "Epoch 41/100\n",
            "155/155 [==============================] - 654s 4s/step - loss: 4.7200 - val_loss: 5.5867\n",
            "Epoch 42/100\n",
            "155/155 [==============================] - 667s 4s/step - loss: 4.6810 - val_loss: 5.5970\n",
            "Epoch 43/100\n",
            "155/155 [==============================] - 668s 4s/step - loss: 4.6459 - val_loss: 5.5964\n",
            "Epoch 44/100\n",
            "155/155 [==============================] - 648s 4s/step - loss: 4.6085 - val_loss: 5.6019\n",
            "Epoch 45/100\n",
            "155/155 [==============================] - 646s 4s/step - loss: 4.5716 - val_loss: 5.6162\n",
            "Epoch 46/100\n",
            "155/155 [==============================] - 644s 4s/step - loss: 4.5361 - val_loss: 5.5986\n",
            "Epoch 47/100\n",
            "155/155 [==============================] - 639s 4s/step - loss: 4.4999 - val_loss: 5.6112\n",
            "Epoch 48/100\n",
            "155/155 [==============================] - 662s 4s/step - loss: 4.4639 - val_loss: 5.6037\n",
            "Epoch 49/100\n",
            "155/155 [==============================] - 672s 4s/step - loss: 4.4269 - val_loss: 5.6183\n",
            "Epoch 50/100\n",
            "155/155 [==============================] - 677s 4s/step - loss: 4.3916 - val_loss: 5.6263\n",
            "Epoch 51/100\n",
            "155/155 [==============================] - 678s 4s/step - loss: 4.3560 - val_loss: 5.6284\n",
            "Epoch 52/100\n",
            "155/155 [==============================] - 661s 4s/step - loss: 4.3212 - val_loss: 5.6357\n",
            "Epoch 53/100\n",
            "155/155 [==============================] - 657s 4s/step - loss: 4.2852 - val_loss: 5.6416\n",
            "Epoch 54/100\n",
            "155/155 [==============================] - 654s 4s/step - loss: 4.2500 - val_loss: 5.6407\n",
            "Epoch 55/100\n",
            "155/155 [==============================] - 657s 4s/step - loss: 4.2153 - val_loss: 5.6460\n",
            "Epoch 56/100\n",
            "155/155 [==============================] - 648s 4s/step - loss: 4.1804 - val_loss: 5.6505\n",
            "Epoch 57/100\n",
            "155/155 [==============================] - 641s 4s/step - loss: 4.1454 - val_loss: 5.6645\n",
            "Epoch 58/100\n",
            "155/155 [==============================] - 633s 4s/step - loss: 4.1102 - val_loss: 5.6645\n",
            "Epoch 59/100\n",
            "155/155 [==============================] - 637s 4s/step - loss: 4.0750 - val_loss: 5.6899\n",
            "Epoch 60/100\n",
            "155/155 [==============================] - 651s 4s/step - loss: 4.0385 - val_loss: 5.6886\n",
            "Epoch 61/100\n",
            " 57/155 [==========>...................] - ETA: 5:59 - loss: 3.9992"
          ]
        }
      ]
    },
    {
      "cell_type": "code",
      "source": [
        "model.load_weights('/content/drive/MyDrive/Saved_Models/checkpoint.h5')\n",
        "\n",
        "# Resume training from the last saved epoch\n",
        "model.fit_generator(\n",
        "    generator=generate_batch(X_train, y_train, batch_size=batch_size),\n",
        "    steps_per_epoch=train_samples // batch_size,  # Number of batches per epoch\n",
        "    epochs=epochs,  # Number of training epochs (total epochs, not additional epochs)\n",
        "    initial_epoch=60,  # the last completed epoch\n",
        "    validation_data=generate_batch(X_test, y_test, batch_size=batch_size),\n",
        "    validation_steps=val_samples // batch_size,\n",
        "    callbacks=[checkpoint_callback]\n",
        ")"
      ],
      "metadata": {
        "colab": {
          "base_uri": "https://localhost:8080/"
        },
        "id": "DzIRsrOKKZ58",
        "outputId": "068ba2cb-b011-4bc7-cea7-991f8726dfd2"
      },
      "execution_count": null,
      "outputs": [
        {
          "metadata": {
            "tags": null
          },
          "name": "stderr",
          "output_type": "stream",
          "text": [
            "<ipython-input-21-b1e2d21cbf2d>:4: UserWarning: `Model.fit_generator` is deprecated and will be removed in a future version. Please use `Model.fit`, which supports generators.\n",
            "  model.fit_generator(\n"
          ]
        },
        {
          "output_type": "stream",
          "name": "stdout",
          "text": [
            "Epoch 61/100\n",
            "155/155 [==============================] - 652s 4s/step - loss: 4.3643 - val_loss: 4.3683\n",
            "Epoch 62/100\n",
            "155/155 [==============================] - 624s 4s/step - loss: 4.2847 - val_loss: 4.4190\n",
            "Epoch 63/100\n",
            "155/155 [==============================] - 626s 4s/step - loss: 4.2231 - val_loss: 4.4583\n",
            "Epoch 64/100\n",
            "155/155 [==============================] - 633s 4s/step - loss: 4.1708 - val_loss: 4.4921\n",
            "Epoch 65/100\n",
            "155/155 [==============================] - 637s 4s/step - loss: 4.1203 - val_loss: 4.5208\n",
            "Epoch 66/100\n",
            "155/155 [==============================] - 635s 4s/step - loss: 4.0750 - val_loss: 4.5661\n",
            "Epoch 67/100\n",
            "155/155 [==============================] - 639s 4s/step - loss: 4.0289 - val_loss: 4.5894\n",
            "Epoch 68/100\n",
            "155/155 [==============================] - 645s 4s/step - loss: 3.9847 - val_loss: 4.5854\n",
            "Epoch 69/100\n",
            "155/155 [==============================] - 619s 4s/step - loss: 3.9428 - val_loss: 4.6278\n",
            "Epoch 70/100\n",
            "155/155 [==============================] - 623s 4s/step - loss: 3.9001 - val_loss: 4.6292\n",
            "Epoch 71/100\n",
            "155/155 [==============================] - 619s 4s/step - loss: 3.8597 - val_loss: 4.6708\n",
            "Epoch 72/100\n",
            "155/155 [==============================] - 639s 4s/step - loss: 3.8156 - val_loss: 4.6823\n",
            "Epoch 73/100\n",
            "155/155 [==============================] - 614s 4s/step - loss: 3.7755 - val_loss: 4.6978\n",
            "Epoch 74/100\n",
            "155/155 [==============================] - 625s 4s/step - loss: 3.7360 - val_loss: 4.7176\n",
            "Epoch 75/100\n",
            "155/155 [==============================] - 635s 4s/step - loss: 3.6965 - val_loss: 4.7382\n",
            "Epoch 76/100\n",
            "155/155 [==============================] - 632s 4s/step - loss: 3.6568 - val_loss: 4.7567\n",
            "Epoch 77/100\n",
            "155/155 [==============================] - 634s 4s/step - loss: 3.6182 - val_loss: 4.7691\n",
            "Epoch 78/100\n",
            "155/155 [==============================] - 636s 4s/step - loss: 3.5762 - val_loss: 4.7929\n",
            "Epoch 79/100\n",
            "155/155 [==============================] - 641s 4s/step - loss: 3.5402 - val_loss: 4.8079\n",
            "Epoch 80/100\n",
            "155/155 [==============================] - 657s 4s/step - loss: 3.5004 - val_loss: 4.8271\n",
            "Epoch 81/100\n",
            "155/155 [==============================] - 642s 4s/step - loss: 3.4637 - val_loss: 4.8357\n",
            "Epoch 82/100\n",
            "155/155 [==============================] - 647s 4s/step - loss: 3.4229 - val_loss: 4.8472\n",
            "Epoch 83/100\n",
            "155/155 [==============================] - 649s 4s/step - loss: 3.3859 - val_loss: 4.8779\n",
            "Epoch 84/100\n",
            "155/155 [==============================] - 651s 4s/step - loss: 3.3457 - val_loss: 4.8814\n",
            "Epoch 85/100\n",
            "155/155 [==============================] - 655s 4s/step - loss: 3.3108 - val_loss: 4.8995\n",
            "Epoch 86/100\n",
            "155/155 [==============================] - 651s 4s/step - loss: 3.2708 - val_loss: 4.9199\n",
            "Epoch 87/100\n",
            "155/155 [==============================] - 640s 4s/step - loss: 3.2369 - val_loss: 4.9444\n",
            "Epoch 88/100\n",
            "155/155 [==============================] - 629s 4s/step - loss: 3.1971 - val_loss: 4.9593\n",
            "Epoch 89/100\n",
            "155/155 [==============================] - 651s 4s/step - loss: 3.1609 - val_loss: 4.9718\n",
            "Epoch 90/100\n",
            "155/155 [==============================] - 655s 4s/step - loss: 3.1235 - val_loss: 5.0071\n",
            "Epoch 91/100\n",
            "155/155 [==============================] - 639s 4s/step - loss: 3.0876 - val_loss: 5.0089\n",
            "Epoch 92/100\n",
            "155/155 [==============================] - 651s 4s/step - loss: 3.0495 - val_loss: 5.0300\n",
            "Epoch 93/100\n",
            "155/155 [==============================] - 620s 4s/step - loss: 3.0153 - val_loss: 5.0546\n",
            "Epoch 94/100\n",
            "155/155 [==============================] - 627s 4s/step - loss: 2.9779 - val_loss: 5.0783\n",
            "Epoch 95/100\n",
            "155/155 [==============================] - 664s 4s/step - loss: 2.9411 - val_loss: 5.0859\n",
            "Epoch 96/100\n",
            "155/155 [==============================] - 780s 5s/step - loss: 2.9069 - val_loss: 5.0988\n",
            "Epoch 97/100\n",
            "155/155 [==============================] - 931s 6s/step - loss: 2.8707 - val_loss: 5.1158\n",
            "Epoch 98/100\n",
            " 32/155 [=====>........................] - ETA: 10:41 - loss: 2.8633"
          ]
        }
      ]
    },
    {
      "cell_type": "code",
      "source": [
        "model.load_weights('/content/drive/MyDrive/Saved_Models/checkpoint.h5')\n",
        "\n",
        "# Resume training from the last saved epoch\n",
        "model.fit_generator(\n",
        "    generator=generate_batch(X_train, y_train, batch_size=batch_size),\n",
        "    steps_per_epoch=train_samples // batch_size,  # Number of batches per epoch\n",
        "    epochs=epochs,  # Number of training epochs (total epochs, not additional epochs)\n",
        "    initial_epoch=97,  # the last completed epoch\n",
        "    validation_data=generate_batch(X_test, y_test, batch_size=batch_size),\n",
        "    validation_steps=val_samples // batch_size,\n",
        "    callbacks=[checkpoint_callback]\n",
        ")"
      ],
      "metadata": {
        "colab": {
          "base_uri": "https://localhost:8080/"
        },
        "id": "uWolCgEo-7qp",
        "outputId": "ed147ed3-7784-4d3c-e90d-ed836e9cb721"
      },
      "execution_count": 21,
      "outputs": [
        {
          "output_type": "stream",
          "name": "stderr",
          "text": [
            "<ipython-input-21-49a98885d183>:4: UserWarning: `Model.fit_generator` is deprecated and will be removed in a future version. Please use `Model.fit`, which supports generators.\n",
            "  model.fit_generator(\n"
          ]
        },
        {
          "output_type": "stream",
          "name": "stdout",
          "text": [
            "Epoch 98/100\n",
            "155/155 [==============================] - 689s 4s/step - loss: 3.3306 - val_loss: 3.3699\n",
            "Epoch 99/100\n",
            "155/155 [==============================] - 662s 4s/step - loss: 3.2311 - val_loss: 3.4309\n",
            "Epoch 100/100\n",
            "155/155 [==============================] - 647s 4s/step - loss: 3.1637 - val_loss: 3.4802\n"
          ]
        },
        {
          "output_type": "execute_result",
          "data": {
            "text/plain": [
              "<keras.src.callbacks.History at 0x7d429e7affa0>"
            ]
          },
          "metadata": {},
          "execution_count": 21
        }
      ]
    },
    {
      "cell_type": "markdown",
      "metadata": {
        "id": "8pS1bxt4K19-"
      },
      "source": [
        "### Final Decoder Model Setup"
      ]
    },
    {
      "cell_type": "code",
      "execution_count": 22,
      "metadata": {
        "id": "PbfSk0wXK8bx"
      },
      "outputs": [],
      "source": [
        "# Encode the input sequence to get the \"thought vectors\"\n",
        "encoder_model = Model(encoder_inputs, encoder_states)\n",
        "\n",
        "# Decoder setup\n",
        "# Below tensors will hold the states of the previous time step\n",
        "decoder_state_input_h = Input(shape=(latent_dim,))\n",
        "decoder_state_input_c = Input(shape=(latent_dim,))\n",
        "decoder_states_inputs = [decoder_state_input_h, decoder_state_input_c]\n",
        "\n",
        "dec_emb2= dec_emb_layer(decoder_inputs) # Get the embeddings of the decoder sequence\n",
        "\n",
        "# To predict the next word in the sequence, set the initial states to the states from the previous time step\n",
        "decoder_outputs2, state_h2, state_c2 = decoder_lstm(dec_emb2, initial_state=decoder_states_inputs)\n",
        "decoder_states2 = [state_h2, state_c2]\n",
        "decoder_outputs2 = decoder_dense(decoder_outputs2) # A dense softmax layer to generate prob dist. over the target vocabulary\n",
        "\n",
        "# Final decoder model\n",
        "decoder_model = Model(\n",
        "    [decoder_inputs] + decoder_states_inputs,\n",
        "    [decoder_outputs2] + decoder_states2)\n",
        "\n",
        "def decode_sequence(input_seq):\n",
        "    # Encode the input as state vectors.\n",
        "    states_value = encoder_model.predict(input_seq)\n",
        "    # Generate empty target sequence of length 1.\n",
        "    target_seq = np.zeros((1,1))\n",
        "    # Populate the first character of target sequence with the start character.\n",
        "    target_seq[0, 0] = target_token_index['START_']\n",
        "\n",
        "    # Sampling loop for a batch of sequences\n",
        "    # (to simplify, here we assume a batch of size 1).\n",
        "    stop_condition = False\n",
        "    decoded_sentence = ''\n",
        "    while not stop_condition:\n",
        "        output_tokens, h, c = decoder_model.predict([target_seq] + states_value)\n",
        "\n",
        "        # Sample a token\n",
        "        sampled_token_index = np.argmax(output_tokens[0, -1, :])\n",
        "        sampled_char = reverse_target_char_index[sampled_token_index]\n",
        "        decoded_sentence += ' '+sampled_char\n",
        "\n",
        "        # Exit condition: either hit max length\n",
        "        # or find stop character.\n",
        "        if (sampled_char == '_END' or\n",
        "           len(decoded_sentence) > 50):\n",
        "            stop_condition = True\n",
        "\n",
        "        # Update the target sequence (of length 1).\n",
        "        target_seq = np.zeros((1,1))\n",
        "        target_seq[0, 0] = sampled_token_index\n",
        "\n",
        "        # Update states\n",
        "        states_value = [h, c]\n",
        "\n",
        "    return decoded_sentence\n",
        "\n",
        "train_gen = generate_batch(X_train, y_train, batch_size = 1)\n",
        "k=-1"
      ]
    },
    {
      "cell_type": "markdown",
      "metadata": {
        "id": "6cvPhk_4LDpi"
      },
      "source": [
        "## Use Case\n",
        "Demonstrates evaluation of a sequence-to-sequence model trained for translating English sentences into Hindi"
      ]
    },
    {
      "cell_type": "code",
      "execution_count": 37,
      "metadata": {
        "id": "gVQHAjOULH3x",
        "colab": {
          "base_uri": "https://localhost:8080/"
        },
        "outputId": "e45b7a84-c178-4fec-e7b2-75dbf7eee892"
      },
      "outputs": [
        {
          "output_type": "stream",
          "name": "stdout",
          "text": [
            "1/1 [==============================] - 0s 42ms/step\n",
            "1/1 [==============================] - 0s 42ms/step\n",
            "1/1 [==============================] - 0s 38ms/step\n",
            "1/1 [==============================] - 0s 42ms/step\n",
            "1/1 [==============================] - 0s 40ms/step\n",
            "1/1 [==============================] - 0s 78ms/step\n",
            "1/1 [==============================] - 0s 46ms/step\n",
            "1/1 [==============================] - 0s 40ms/step\n",
            "1/1 [==============================] - 0s 49ms/step\n",
            "Input English sentence: million numbers\n",
            "Actual Hindi Translation:  मिलियन संख्याए\n",
            "Predicted Hindi Translation:  करोड़ डॉलर की ओर।_END हो_END में_END में_END में\n"
          ]
        }
      ],
      "source": [
        "k+=1\n",
        "(input_seq, actual_output), _ = next(train_gen)\n",
        "decoded_sentence = decode_sequence(input_seq)\n",
        "print('Input English sentence:', X_train[k:k+1].values[0])\n",
        "print('Actual Hindi Translation:', y_train[k:k+1].values[0][6:-4])\n",
        "print('Predicted Hindi Translation:', decoded_sentence[:-4])"
      ]
    },
    {
      "cell_type": "code",
      "source": [
        "model.save('/content/drive/MyDrive/Saved_Models/Language Translation.hdf5')"
      ],
      "metadata": {
        "id": "_N4pG0QUgB0h"
      },
      "execution_count": 38,
      "outputs": []
    }
  ],
  "metadata": {
    "colab": {
      "provenance": []
    },
    "kernelspec": {
      "display_name": "Python 3",
      "name": "python3"
    },
    "language_info": {
      "name": "python"
    }
  },
  "nbformat": 4,
  "nbformat_minor": 0
}